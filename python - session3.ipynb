{
 "cells": [
  {
   "cell_type": "markdown",
   "metadata": {},
   "source": [
    "# Functions in Python\n",
    "A function is a block of organized, reusable code that is used to perform a single, related action.\n",
    "\n",
    "Syntax: \n",
    "def functionname( parameters ):\n",
    "   function_suite\n",
    "   return [expression]\n",
    "  \n",
    "Examples:"
   ]
  },
  {
   "cell_type": "code",
   "execution_count": 2,
   "metadata": {},
   "outputs": [
    {
     "name": "stdout",
     "output_type": "stream",
     "text": [
      "3\n"
     ]
    }
   ],
   "source": [
    "def myfunc(arg1,arg2):\n",
    "    a = arg1 + arg2\n",
    "    print(a)\n",
    "    return\n",
    "\n",
    "myfunc(1,2)"
   ]
  },
  {
   "cell_type": "markdown",
   "metadata": {},
   "source": [
    "# Lambda Function:\n",
    "\n",
    "Syntax:\n",
    "lambda arguments : expression\n",
    "\n",
    "1. Fucntion with outname also called as anonymous function.\n",
    "2. Single line function.\n",
    "3. Multiple Argument, but single expression.\n",
    "4. Return the resut of evaluated expression."
   ]
  },
  {
   "cell_type": "code",
   "execution_count": 3,
   "metadata": {},
   "outputs": [
    {
     "name": "stdout",
     "output_type": "stream",
     "text": [
      "15\n"
     ]
    }
   ],
   "source": [
    "x = lambda a : a + 10\n",
    "print(x(5))"
   ]
  },
  {
   "cell_type": "code",
   "execution_count": 13,
   "metadata": {},
   "outputs": [
    {
     "name": "stdout",
     "output_type": "stream",
     "text": [
      "13\n"
     ]
    }
   ],
   "source": [
    "x = lambda a, b, c : a + b + c\n",
    "print(x(5, 6, 2))"
   ]
  },
  {
   "cell_type": "markdown",
   "metadata": {},
   "source": [
    "# Where to use Lambda fucntion\n",
    "an anonymous function inside another functions like map, filters, reduces etc.\n",
    "When we want to perform multiple task from same function.\n"
   ]
  },
  {
   "cell_type": "code",
   "execution_count": 12,
   "metadata": {},
   "outputs": [
    {
     "name": "stdout",
     "output_type": "stream",
     "text": [
      "***Menu***\n",
      "1.Square\n",
      "2.Cube\n",
      "Enter your choice:\n",
      "1\n",
      "Enter the number to find out square\n",
      "4\n",
      "Square of 4 is 16 \n"
     ]
    }
   ],
   "source": [
    "def myfunc(n):\n",
    "  return lambda a : a ** n\n",
    "\n",
    "print(\"***Menu***\\n1.Square\\n2.Cube\")\n",
    "print(\"Enter your choice:\")\n",
    "input1 = int(input())\n",
    "dict = {1:myfunc(2), 2:myfunc(3)}\n",
    "\n",
    "if input1 == 1:\n",
    "    square = myfunc(2)\n",
    "    print(\"Enter the number to find out square\")\n",
    "    num = int(input())\n",
    "    print(\"Square of {} is %d \".format(num) %(square(num)))\n",
    "else:\n",
    "    cube = myfunc(3)\n",
    "    print(\"Enter the number to find out cube\")\n",
    "    num = int(input())\n",
    "    print(\"Cube of {} is %d \".format(num) %cube(num))\n",
    "\n"
   ]
  },
  {
   "cell_type": "markdown",
   "metadata": {},
   "source": [
    "# Filters:\n",
    "\n",
    "The filter function is used to select some particular elements from a sequence of elements. The sequence can be any iterator like lists, sets, tuples, etc.\n",
    "\n",
    "Ex: filter numbers greater than \n",
    "filter even numbers"
   ]
  },
  {
   "cell_type": "code",
   "execution_count": 14,
   "metadata": {},
   "outputs": [
    {
     "name": "stdout",
     "output_type": "stream",
     "text": [
      "[5, 6, 7, 8, 9, 10]\n",
      "[2, 4, 6, 8, 10]\n"
     ]
    }
   ],
   "source": [
    "l1 = [1, 2, 3, 4, 5, 6, 7, 8, 9, 10]\n",
    "result = filter(lambda x: x > 4, l1)\n",
    "print(list(result))\n",
    "\n",
    "results = filter(lambda x: (x % 2 == 0), l1)\n",
    "print(list(results))"
   ]
  },
  {
   "cell_type": "markdown",
   "metadata": {},
   "source": [
    "# MAPS:\n",
    "The map function is used to apply a particular operation to every element in a sequence.\n"
   ]
  },
  {
   "cell_type": "code",
   "execution_count": 15,
   "metadata": {},
   "outputs": [
    {
     "name": "stdout",
     "output_type": "stream",
     "text": [
      "[4, 8, 12, 16, 20, 24, 28, 32]\n"
     ]
    }
   ],
   "source": [
    "l1 = [2, 4, 6, 8, 10, 12, 14, 16]\n",
    "results = map(lambda a : a*2, l1)\n",
    "print(list(results))"
   ]
  },
  {
   "cell_type": "markdown",
   "metadata": {},
   "source": [
    "# Reduce:\n",
    "Used to apply an operation to every element in a sequence. \n",
    "\n",
    "Step 1) Perform the defined operation on the first 2 elements of the sequence.\n",
    "Step 2) Save this result\n",
    "Step 3) Perform the operation with the saved result and the next element in the sequence.\n",
    "Step 4) Repeat until no more elements are left.\n",
    "\n"
   ]
  },
  {
   "cell_type": "code",
   "execution_count": 16,
   "metadata": {},
   "outputs": [
    {
     "name": "stdout",
     "output_type": "stream",
     "text": [
      "45\n"
     ]
    }
   ],
   "source": [
    "from functools import reduce\n",
    "l1 = [1, 2, 3, 4, 5, 6, 7, 8, 9]\n",
    "results = reduce(lambda a,b: a+b, l1)\n",
    "print(results)\n",
    "\n"
   ]
  },
  {
   "cell_type": "markdown",
   "metadata": {},
   "source": [
    "# Zipping:\n",
    "The purpose of zip() is to map the similar index of multiple containers so that they can be used just using as single entity.\n",
    "\n",
    "Which means if you have 2 List L1 and L2 and you have to mapp L1[0] to L2[0]'''\n",
    "\n",
    "Syntax zipping:\n",
    "variable = zip(list1, list2, list3)\n",
    "\n",
    "Syntax unzipping:\n",
    "list1, list2, list3 = unzip(*variable)"
   ]
  },
  {
   "cell_type": "code",
   "execution_count": 24,
   "metadata": {},
   "outputs": [
    {
     "name": "stdout",
     "output_type": "stream",
     "text": [
      "[('Michael', '1', '70'), ('Ganesh', '2', '80'), ('Waghmare', '3', '90')]\n",
      "('Michael', 'Ganesh', 'Waghmare')\n",
      "('1', '2', '3')\n",
      "('70', '80', '90')\n"
     ]
    }
   ],
   "source": [
    "Name = ['Michael', 'Ganesh', 'Waghmare']\n",
    "Roll_number = ['1', '2', '3', '4']\n",
    "Marks = ['70', '80', '90', '5']\n",
    "\n",
    "zipping = zip(Name, Roll_number, Marks)\n",
    "zipping = list(zipping)\n",
    "print(zipping)\n",
    "\n",
    "Name, Roll_number, Marks = zip(*zipping)\n",
    "print(Name)\n",
    "print(Roll_number)\n",
    "print(Marks)\n"
   ]
  },
  {
   "cell_type": "markdown",
   "metadata": {},
   "source": [
    "ZIP EXAMPLE 1"
   ]
  },
  {
   "cell_type": "code",
   "execution_count": 28,
   "metadata": {},
   "outputs": [
    {
     "name": "stdout",
     "output_type": "stream",
     "text": [
      "****Score card****\n",
      "Player  : Rahul     Score : 65\n",
      "Player  : Pathan    Score : 18\n",
      "Player  : Sachin    Score : 99\n"
     ]
    }
   ],
   "source": [
    "Player_Name = ['Sachin', 'Rahul ', 'Pathan']\n",
    "Player_Score = ['99', '65', '18']\n",
    "\n",
    "ziped = zip(Player_Name,Player_Score)\n",
    "ziped = set(ziped)\n",
    "\n",
    "print(\"****Score card****\")\n",
    "for p, s in ziped:\n",
    "    print(\"Player  : %s    Score : %s\" %(p, s))\n"
   ]
  },
  {
   "cell_type": "code",
   "execution_count": null,
   "metadata": {},
   "outputs": [],
   "source": [
    "Example2\n",
    "'''Program to identify and print 2 consicative elements in list'''"
   ]
  },
  {
   "cell_type": "code",
   "execution_count": 29,
   "metadata": {},
   "outputs": [
    {
     "name": "stdout",
     "output_type": "stream",
     "text": [
      "1 1\n",
      "2 2\n",
      "5 5\n"
     ]
    }
   ],
   "source": [
    "l1 = [1, 1, 2, 2, 3, 4, 5, 5, 7, 5]\n",
    "zipped = zip(l1[:], l1[1:])\n",
    "\n",
    "for x, y in zipped:\n",
    "    if x == y:\n",
    "        print(x, y)\n",
    "\n"
   ]
  },
  {
   "cell_type": "markdown",
   "metadata": {},
   "source": [
    "# Enumrate:\n",
    "\n",
    "Syntax:\n",
    "enumerate(iterable, start)\n",
    "\n",
    "\n",
    "When to use Enumrate:\n",
    "It allows us to loop over something and have an automatic counter.\n",
    "keep a count of iterations."
   ]
  },
  {
   "cell_type": "code",
   "execution_count": 35,
   "metadata": {},
   "outputs": [
    {
     "name": "stdout",
     "output_type": "stream",
     "text": [
      "<class 'enumerate'>\n",
      "[(0, 'bread'), (1, 'milk'), (2, 'butter')]\n",
      "[(10, 'bread'), (11, 'milk'), (12, 'butter')]\n"
     ]
    }
   ],
   "source": [
    "grocery = ['bread', 'milk', 'butter']\n",
    "enumerateGrocery = enumerate(grocery)\n",
    "\n",
    "print(type(enumerateGrocery))\n",
    "\n",
    "# converting to list\n",
    "print(list(enumerateGrocery))\n",
    "\n",
    "# changing the default counter\n",
    "enumerateGrocery = enumerate(grocery, 10)\n",
    "print(list(enumerateGrocery))"
   ]
  },
  {
   "cell_type": "code",
   "execution_count": 36,
   "metadata": {
    "scrolled": true
   },
   "outputs": [
    {
     "name": "stdout",
     "output_type": "stream",
     "text": [
      "1 bread\n",
      "2 milk\n",
      "3 butter\n"
     ]
    }
   ],
   "source": [
    "'''Looping through enumrate'''\n",
    "\n",
    "grocery = ['bread', 'milk', 'butter']\n",
    "for c, value in enumerate(grocery, 1):\n",
    "    print(c, value)\n"
   ]
  },
  {
   "cell_type": "code",
   "execution_count": null,
   "metadata": {},
   "outputs": [],
   "source": []
  }
 ],
 "metadata": {
  "celltoolbar": "Edit Metadata",
  "kernelspec": {
   "display_name": "Python 3",
   "language": "python",
   "name": "python3"
  },
  "language_info": {
   "codemirror_mode": {
    "name": "ipython",
    "version": 3
   },
   "file_extension": ".py",
   "mimetype": "text/x-python",
   "name": "python",
   "nbconvert_exporter": "python",
   "pygments_lexer": "ipython3",
   "version": "3.6.8"
  }
 },
 "nbformat": 4,
 "nbformat_minor": 2
}
